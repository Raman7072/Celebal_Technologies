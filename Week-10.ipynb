{
 "cells": [
  {
   "cell_type": "markdown",
   "metadata": {
    "application/vnd.databricks.v1+cell": {
     "cellMetadata": {},
     "inputWidgets": {},
     "nuid": "228bd9f6-385c-4e9d-b258-01fe532897ca",
     "showTitle": false,
     "title": ""
    }
   },
   "source": [
    "## Task 01\n",
    "#### Create a Dummy Data Generator in Python"
   ]
  },
  {
   "cell_type": "code",
   "execution_count": 0,
   "metadata": {
    "application/vnd.databricks.v1+cell": {
     "cellMetadata": {
      "byteLimit": 2048000,
      "rowLimit": 10000
     },
     "inputWidgets": {},
     "nuid": "358d5ea7-6c58-4f62-ad21-63633d98c59f",
     "showTitle": false,
     "title": ""
    }
   },
   "outputs": [
    {
     "output_type": "display_data",
     "data": {
      "text/plain": [
       "\u001B[0;31m---------------------------------------------------------------------------\u001B[0m\n",
       "\u001B[0;31mValueError\u001B[0m                                Traceback (most recent call last)\n",
       "File \u001B[0;32m<command-4486013845979394>, line 24\u001B[0m\n",
       "\u001B[1;32m     20\u001B[0m         time\u001B[38;5;241m.\u001B[39msleep(\u001B[38;5;241m2\u001B[39m)\n",
       "\u001B[1;32m     22\u001B[0m     producer\u001B[38;5;241m.\u001B[39mclose()\n",
       "\u001B[0;32m---> 24\u001B[0m send_data_to_event_hub()\n",
       "\n",
       "File \u001B[0;32m<command-4486013845979394>, line 12\u001B[0m, in \u001B[0;36msend_data_to_event_hub\u001B[0;34m()\u001B[0m\n",
       "\u001B[1;32m      9\u001B[0m connection_str \u001B[38;5;241m=\u001B[39m \u001B[38;5;124m'\u001B[39m\u001B[38;5;124mEVENT_HUB_CONNECTION_STRING\u001B[39m\u001B[38;5;124m'\u001B[39m\n",
       "\u001B[1;32m     10\u001B[0m eventhub_name \u001B[38;5;241m=\u001B[39m \u001B[38;5;124m'\u001B[39m\u001B[38;5;124mYOUR_EVENT_HUB_NAME\u001B[39m\u001B[38;5;124m'\u001B[39m\n",
       "\u001B[0;32m---> 12\u001B[0m producer \u001B[38;5;241m=\u001B[39m EventHubProducerClient\u001B[38;5;241m.\u001B[39mfrom_connection_string(conn_str\u001B[38;5;241m=\u001B[39mconnection_str, eventhub_name\u001B[38;5;241m=\u001B[39meventhub_name)\n",
       "\u001B[1;32m     14\u001B[0m \u001B[38;5;28;01mwhile\u001B[39;00m \u001B[38;5;28;01mTrue\u001B[39;00m:\n",
       "\u001B[1;32m     15\u001B[0m     number \u001B[38;5;241m=\u001B[39m generate_data()\n",
       "\n",
       "File \u001B[0;32m/local_disk0/.ephemeral_nfs/envs/pythonEnv-c0e2ccb6-1b8d-494a-9fd0-7a3166f4fddd/lib/python3.11/site-packages/azure/eventhub/_producer_client.py:571\u001B[0m, in \u001B[0;36mEventHubProducerClient.from_connection_string\u001B[0;34m(cls, conn_str, eventhub_name, buffered_mode, buffer_concurrency, on_success, on_error, max_buffer_length, max_wait_time, logging_enable, http_proxy, auth_timeout, user_agent, retry_total, retry_backoff_factor, retry_backoff_max, retry_mode, idle_timeout, transport_type, custom_endpoint_address, connection_verify, uamqp_transport, **kwargs)\u001B[0m\n",
       "\u001B[1;32m    443\u001B[0m \u001B[38;5;129m@classmethod\u001B[39m\n",
       "\u001B[1;32m    444\u001B[0m \u001B[38;5;28;01mdef\u001B[39;00m \u001B[38;5;21mfrom_connection_string\u001B[39m(\n",
       "\u001B[1;32m    445\u001B[0m     \u001B[38;5;28mcls\u001B[39m,\n",
       "\u001B[0;32m   (...)\u001B[0m\n",
       "\u001B[1;32m    470\u001B[0m     \u001B[38;5;241m*\u001B[39m\u001B[38;5;241m*\u001B[39mkwargs: Any\n",
       "\u001B[1;32m    471\u001B[0m ) \u001B[38;5;241m-\u001B[39m\u001B[38;5;241m>\u001B[39m \u001B[38;5;124m\"\u001B[39m\u001B[38;5;124mEventHubProducerClient\u001B[39m\u001B[38;5;124m\"\u001B[39m:\n",
       "\u001B[1;32m    472\u001B[0m \u001B[38;5;250m    \u001B[39m\u001B[38;5;124;03m\"\"\"Create an EventHubProducerClient from a connection string.\u001B[39;00m\n",
       "\u001B[1;32m    473\u001B[0m \n",
       "\u001B[1;32m    474\u001B[0m \u001B[38;5;124;03m    :param str conn_str: The connection string of an Event Hub.\u001B[39;00m\n",
       "\u001B[0;32m   (...)\u001B[0m\n",
       "\u001B[1;32m    569\u001B[0m \u001B[38;5;124;03m            :caption: Create a new instance of the EventHubProducerClient from connection string.\u001B[39;00m\n",
       "\u001B[1;32m    570\u001B[0m \u001B[38;5;124;03m    \"\"\"\u001B[39;00m\n",
       "\u001B[0;32m--> 571\u001B[0m     constructor_args \u001B[38;5;241m=\u001B[39m \u001B[38;5;28mcls\u001B[39m\u001B[38;5;241m.\u001B[39m_from_connection_string(\n",
       "\u001B[1;32m    572\u001B[0m         conn_str,\n",
       "\u001B[1;32m    573\u001B[0m         eventhub_name\u001B[38;5;241m=\u001B[39meventhub_name,\n",
       "\u001B[1;32m    574\u001B[0m         buffered_mode\u001B[38;5;241m=\u001B[39mbuffered_mode,\n",
       "\u001B[1;32m    575\u001B[0m         buffer_concurrency\u001B[38;5;241m=\u001B[39mbuffer_concurrency,\n",
       "\u001B[1;32m    576\u001B[0m         on_success\u001B[38;5;241m=\u001B[39mon_success,\n",
       "\u001B[1;32m    577\u001B[0m         on_error\u001B[38;5;241m=\u001B[39mon_error,\n",
       "\u001B[1;32m    578\u001B[0m         max_buffer_length\u001B[38;5;241m=\u001B[39mmax_buffer_length,\n",
       "\u001B[1;32m    579\u001B[0m         max_wait_time\u001B[38;5;241m=\u001B[39mmax_wait_time,\n",
       "\u001B[1;32m    580\u001B[0m         logging_enable\u001B[38;5;241m=\u001B[39mlogging_enable,\n",
       "\u001B[1;32m    581\u001B[0m         http_proxy\u001B[38;5;241m=\u001B[39mhttp_proxy,\n",
       "\u001B[1;32m    582\u001B[0m         auth_timeout\u001B[38;5;241m=\u001B[39mauth_timeout,\n",
       "\u001B[1;32m    583\u001B[0m         user_agent\u001B[38;5;241m=\u001B[39muser_agent,\n",
       "\u001B[1;32m    584\u001B[0m         retry_total\u001B[38;5;241m=\u001B[39mretry_total,\n",
       "\u001B[1;32m    585\u001B[0m         retry_backoff_factor\u001B[38;5;241m=\u001B[39mretry_backoff_factor,\n",
       "\u001B[1;32m    586\u001B[0m         retry_backoff_max\u001B[38;5;241m=\u001B[39mretry_backoff_max,\n",
       "\u001B[1;32m    587\u001B[0m         retry_mode\u001B[38;5;241m=\u001B[39mretry_mode,\n",
       "\u001B[1;32m    588\u001B[0m         idle_timeout\u001B[38;5;241m=\u001B[39midle_timeout,\n",
       "\u001B[1;32m    589\u001B[0m         transport_type\u001B[38;5;241m=\u001B[39mtransport_type,\n",
       "\u001B[1;32m    590\u001B[0m         custom_endpoint_address\u001B[38;5;241m=\u001B[39mcustom_endpoint_address,\n",
       "\u001B[1;32m    591\u001B[0m         connection_verify\u001B[38;5;241m=\u001B[39mconnection_verify,\n",
       "\u001B[1;32m    592\u001B[0m         uamqp_transport\u001B[38;5;241m=\u001B[39muamqp_transport,\n",
       "\u001B[1;32m    593\u001B[0m         \u001B[38;5;241m*\u001B[39m\u001B[38;5;241m*\u001B[39mkwargs\n",
       "\u001B[1;32m    594\u001B[0m     )\n",
       "\u001B[1;32m    595\u001B[0m     \u001B[38;5;28;01mreturn\u001B[39;00m \u001B[38;5;28mcls\u001B[39m(\u001B[38;5;241m*\u001B[39m\u001B[38;5;241m*\u001B[39mconstructor_args)\n",
       "\n",
       "File \u001B[0;32m/local_disk0/.ephemeral_nfs/envs/pythonEnv-c0e2ccb6-1b8d-494a-9fd0-7a3166f4fddd/lib/python3.11/site-packages/azure/eventhub/_client_base.py:337\u001B[0m, in \u001B[0;36mClientBase._from_connection_string\u001B[0;34m(conn_str, **kwargs)\u001B[0m\n",
       "\u001B[1;32m    335\u001B[0m \u001B[38;5;129m@staticmethod\u001B[39m\n",
       "\u001B[1;32m    336\u001B[0m \u001B[38;5;28;01mdef\u001B[39;00m \u001B[38;5;21m_from_connection_string\u001B[39m(conn_str: \u001B[38;5;28mstr\u001B[39m, \u001B[38;5;241m*\u001B[39m\u001B[38;5;241m*\u001B[39mkwargs: Any) \u001B[38;5;241m-\u001B[39m\u001B[38;5;241m>\u001B[39m Dict[\u001B[38;5;28mstr\u001B[39m, Any]:\n",
       "\u001B[0;32m--> 337\u001B[0m     host, policy, key, entity, token, token_expiry, emulator \u001B[38;5;241m=\u001B[39m _parse_conn_str(\n",
       "\u001B[1;32m    338\u001B[0m         conn_str, \u001B[38;5;241m*\u001B[39m\u001B[38;5;241m*\u001B[39mkwargs\n",
       "\u001B[1;32m    339\u001B[0m     )\n",
       "\u001B[1;32m    341\u001B[0m     kwargs[\u001B[38;5;124m\"\u001B[39m\u001B[38;5;124mfully_qualified_namespace\u001B[39m\u001B[38;5;124m\"\u001B[39m] \u001B[38;5;241m=\u001B[39m host\n",
       "\u001B[1;32m    342\u001B[0m     kwargs[\u001B[38;5;124m\"\u001B[39m\u001B[38;5;124meventhub_name\u001B[39m\u001B[38;5;124m\"\u001B[39m] \u001B[38;5;241m=\u001B[39m entity\n",
       "\n",
       "File \u001B[0;32m/local_disk0/.ephemeral_nfs/envs/pythonEnv-c0e2ccb6-1b8d-494a-9fd0-7a3166f4fddd/lib/python3.11/site-packages/azure/eventhub/_client_base.py:85\u001B[0m, in \u001B[0;36m_parse_conn_str\u001B[0;34m(conn_str, eventhub_name, check_case, **kwargs)\u001B[0m\n",
       "\u001B[1;32m     83\u001B[0m shared_access_signature_expiry \u001B[38;5;241m=\u001B[39m \u001B[38;5;28;01mNone\u001B[39;00m\n",
       "\u001B[1;32m     84\u001B[0m use_emulator: Optional[\u001B[38;5;28mstr\u001B[39m] \u001B[38;5;241m=\u001B[39m \u001B[38;5;28;01mNone\u001B[39;00m\n",
       "\u001B[0;32m---> 85\u001B[0m conn_settings \u001B[38;5;241m=\u001B[39m core_parse_connection_string(\n",
       "\u001B[1;32m     86\u001B[0m     conn_str, case_sensitive_keys\u001B[38;5;241m=\u001B[39mcheck_case\n",
       "\u001B[1;32m     87\u001B[0m )\n",
       "\u001B[1;32m     88\u001B[0m \u001B[38;5;28;01mif\u001B[39;00m check_case:\n",
       "\u001B[1;32m     89\u001B[0m     shared_access_key \u001B[38;5;241m=\u001B[39m conn_settings\u001B[38;5;241m.\u001B[39mget(\u001B[38;5;124m\"\u001B[39m\u001B[38;5;124mSharedAccessKey\u001B[39m\u001B[38;5;124m\"\u001B[39m)\n",
       "\n",
       "File \u001B[0;32m/databricks/python/lib/python3.11/site-packages/azure/core/utils/_connection_string_parser.py:28\u001B[0m, in \u001B[0;36mparse_connection_string\u001B[0;34m(conn_str, case_sensitive_keys)\u001B[0m\n",
       "\u001B[1;32m     26\u001B[0m cs_args \u001B[38;5;241m=\u001B[39m [s\u001B[38;5;241m.\u001B[39msplit(\u001B[38;5;124m\"\u001B[39m\u001B[38;5;124m=\u001B[39m\u001B[38;5;124m\"\u001B[39m, \u001B[38;5;241m1\u001B[39m) \u001B[38;5;28;01mfor\u001B[39;00m s \u001B[38;5;129;01min\u001B[39;00m conn_str\u001B[38;5;241m.\u001B[39mstrip()\u001B[38;5;241m.\u001B[39mrstrip(\u001B[38;5;124m\"\u001B[39m\u001B[38;5;124m;\u001B[39m\u001B[38;5;124m\"\u001B[39m)\u001B[38;5;241m.\u001B[39msplit(\u001B[38;5;124m\"\u001B[39m\u001B[38;5;124m;\u001B[39m\u001B[38;5;124m\"\u001B[39m)]\n",
       "\u001B[1;32m     27\u001B[0m \u001B[38;5;28;01mif\u001B[39;00m \u001B[38;5;28many\u001B[39m(\u001B[38;5;28mlen\u001B[39m(tup) \u001B[38;5;241m!=\u001B[39m \u001B[38;5;241m2\u001B[39m \u001B[38;5;129;01mor\u001B[39;00m \u001B[38;5;129;01mnot\u001B[39;00m \u001B[38;5;28mall\u001B[39m(tup) \u001B[38;5;28;01mfor\u001B[39;00m tup \u001B[38;5;129;01min\u001B[39;00m cs_args):\n",
       "\u001B[0;32m---> 28\u001B[0m     \u001B[38;5;28;01mraise\u001B[39;00m \u001B[38;5;167;01mValueError\u001B[39;00m(\u001B[38;5;124m\"\u001B[39m\u001B[38;5;124mConnection string is either blank or malformed.\u001B[39m\u001B[38;5;124m\"\u001B[39m)\n",
       "\u001B[1;32m     29\u001B[0m args_dict \u001B[38;5;241m=\u001B[39m \u001B[38;5;28mdict\u001B[39m(cs_args)\n",
       "\u001B[1;32m     31\u001B[0m \u001B[38;5;28;01mif\u001B[39;00m \u001B[38;5;28mlen\u001B[39m(cs_args) \u001B[38;5;241m!=\u001B[39m \u001B[38;5;28mlen\u001B[39m(args_dict):\n",
       "\n",
       "\u001B[0;31mValueError\u001B[0m: Connection string is either blank or malformed."
      ]
     },
     "metadata": {
      "application/vnd.databricks.v1+output": {
       "addedWidgets": {},
       "arguments": {},
       "datasetInfos": [],
       "jupyterProps": {
        "ename": "ValueError",
        "evalue": "Connection string is either blank or malformed."
       },
       "metadata": {
        "errorSummary": "<span class='ansi-red-fg'>ValueError</span>: Connection string is either blank or malformed."
       },
       "removedWidgets": [],
       "sqlProps": null,
       "stackFrames": [
        "\u001B[0;31m---------------------------------------------------------------------------\u001B[0m",
        "\u001B[0;31mValueError\u001B[0m                                Traceback (most recent call last)",
        "File \u001B[0;32m<command-4486013845979394>, line 24\u001B[0m\n\u001B[1;32m     20\u001B[0m         time\u001B[38;5;241m.\u001B[39msleep(\u001B[38;5;241m2\u001B[39m)\n\u001B[1;32m     22\u001B[0m     producer\u001B[38;5;241m.\u001B[39mclose()\n\u001B[0;32m---> 24\u001B[0m send_data_to_event_hub()\n",
        "File \u001B[0;32m<command-4486013845979394>, line 12\u001B[0m, in \u001B[0;36msend_data_to_event_hub\u001B[0;34m()\u001B[0m\n\u001B[1;32m      9\u001B[0m connection_str \u001B[38;5;241m=\u001B[39m \u001B[38;5;124m'\u001B[39m\u001B[38;5;124mEVENT_HUB_CONNECTION_STRING\u001B[39m\u001B[38;5;124m'\u001B[39m\n\u001B[1;32m     10\u001B[0m eventhub_name \u001B[38;5;241m=\u001B[39m \u001B[38;5;124m'\u001B[39m\u001B[38;5;124mYOUR_EVENT_HUB_NAME\u001B[39m\u001B[38;5;124m'\u001B[39m\n\u001B[0;32m---> 12\u001B[0m producer \u001B[38;5;241m=\u001B[39m EventHubProducerClient\u001B[38;5;241m.\u001B[39mfrom_connection_string(conn_str\u001B[38;5;241m=\u001B[39mconnection_str, eventhub_name\u001B[38;5;241m=\u001B[39meventhub_name)\n\u001B[1;32m     14\u001B[0m \u001B[38;5;28;01mwhile\u001B[39;00m \u001B[38;5;28;01mTrue\u001B[39;00m:\n\u001B[1;32m     15\u001B[0m     number \u001B[38;5;241m=\u001B[39m generate_data()\n",
        "File \u001B[0;32m/local_disk0/.ephemeral_nfs/envs/pythonEnv-c0e2ccb6-1b8d-494a-9fd0-7a3166f4fddd/lib/python3.11/site-packages/azure/eventhub/_producer_client.py:571\u001B[0m, in \u001B[0;36mEventHubProducerClient.from_connection_string\u001B[0;34m(cls, conn_str, eventhub_name, buffered_mode, buffer_concurrency, on_success, on_error, max_buffer_length, max_wait_time, logging_enable, http_proxy, auth_timeout, user_agent, retry_total, retry_backoff_factor, retry_backoff_max, retry_mode, idle_timeout, transport_type, custom_endpoint_address, connection_verify, uamqp_transport, **kwargs)\u001B[0m\n\u001B[1;32m    443\u001B[0m \u001B[38;5;129m@classmethod\u001B[39m\n\u001B[1;32m    444\u001B[0m \u001B[38;5;28;01mdef\u001B[39;00m \u001B[38;5;21mfrom_connection_string\u001B[39m(\n\u001B[1;32m    445\u001B[0m     \u001B[38;5;28mcls\u001B[39m,\n\u001B[0;32m   (...)\u001B[0m\n\u001B[1;32m    470\u001B[0m     \u001B[38;5;241m*\u001B[39m\u001B[38;5;241m*\u001B[39mkwargs: Any\n\u001B[1;32m    471\u001B[0m ) \u001B[38;5;241m-\u001B[39m\u001B[38;5;241m>\u001B[39m \u001B[38;5;124m\"\u001B[39m\u001B[38;5;124mEventHubProducerClient\u001B[39m\u001B[38;5;124m\"\u001B[39m:\n\u001B[1;32m    472\u001B[0m \u001B[38;5;250m    \u001B[39m\u001B[38;5;124;03m\"\"\"Create an EventHubProducerClient from a connection string.\u001B[39;00m\n\u001B[1;32m    473\u001B[0m \n\u001B[1;32m    474\u001B[0m \u001B[38;5;124;03m    :param str conn_str: The connection string of an Event Hub.\u001B[39;00m\n\u001B[0;32m   (...)\u001B[0m\n\u001B[1;32m    569\u001B[0m \u001B[38;5;124;03m            :caption: Create a new instance of the EventHubProducerClient from connection string.\u001B[39;00m\n\u001B[1;32m    570\u001B[0m \u001B[38;5;124;03m    \"\"\"\u001B[39;00m\n\u001B[0;32m--> 571\u001B[0m     constructor_args \u001B[38;5;241m=\u001B[39m \u001B[38;5;28mcls\u001B[39m\u001B[38;5;241m.\u001B[39m_from_connection_string(\n\u001B[1;32m    572\u001B[0m         conn_str,\n\u001B[1;32m    573\u001B[0m         eventhub_name\u001B[38;5;241m=\u001B[39meventhub_name,\n\u001B[1;32m    574\u001B[0m         buffered_mode\u001B[38;5;241m=\u001B[39mbuffered_mode,\n\u001B[1;32m    575\u001B[0m         buffer_concurrency\u001B[38;5;241m=\u001B[39mbuffer_concurrency,\n\u001B[1;32m    576\u001B[0m         on_success\u001B[38;5;241m=\u001B[39mon_success,\n\u001B[1;32m    577\u001B[0m         on_error\u001B[38;5;241m=\u001B[39mon_error,\n\u001B[1;32m    578\u001B[0m         max_buffer_length\u001B[38;5;241m=\u001B[39mmax_buffer_length,\n\u001B[1;32m    579\u001B[0m         max_wait_time\u001B[38;5;241m=\u001B[39mmax_wait_time,\n\u001B[1;32m    580\u001B[0m         logging_enable\u001B[38;5;241m=\u001B[39mlogging_enable,\n\u001B[1;32m    581\u001B[0m         http_proxy\u001B[38;5;241m=\u001B[39mhttp_proxy,\n\u001B[1;32m    582\u001B[0m         auth_timeout\u001B[38;5;241m=\u001B[39mauth_timeout,\n\u001B[1;32m    583\u001B[0m         user_agent\u001B[38;5;241m=\u001B[39muser_agent,\n\u001B[1;32m    584\u001B[0m         retry_total\u001B[38;5;241m=\u001B[39mretry_total,\n\u001B[1;32m    585\u001B[0m         retry_backoff_factor\u001B[38;5;241m=\u001B[39mretry_backoff_factor,\n\u001B[1;32m    586\u001B[0m         retry_backoff_max\u001B[38;5;241m=\u001B[39mretry_backoff_max,\n\u001B[1;32m    587\u001B[0m         retry_mode\u001B[38;5;241m=\u001B[39mretry_mode,\n\u001B[1;32m    588\u001B[0m         idle_timeout\u001B[38;5;241m=\u001B[39midle_timeout,\n\u001B[1;32m    589\u001B[0m         transport_type\u001B[38;5;241m=\u001B[39mtransport_type,\n\u001B[1;32m    590\u001B[0m         custom_endpoint_address\u001B[38;5;241m=\u001B[39mcustom_endpoint_address,\n\u001B[1;32m    591\u001B[0m         connection_verify\u001B[38;5;241m=\u001B[39mconnection_verify,\n\u001B[1;32m    592\u001B[0m         uamqp_transport\u001B[38;5;241m=\u001B[39muamqp_transport,\n\u001B[1;32m    593\u001B[0m         \u001B[38;5;241m*\u001B[39m\u001B[38;5;241m*\u001B[39mkwargs\n\u001B[1;32m    594\u001B[0m     )\n\u001B[1;32m    595\u001B[0m     \u001B[38;5;28;01mreturn\u001B[39;00m \u001B[38;5;28mcls\u001B[39m(\u001B[38;5;241m*\u001B[39m\u001B[38;5;241m*\u001B[39mconstructor_args)\n",
        "File \u001B[0;32m/local_disk0/.ephemeral_nfs/envs/pythonEnv-c0e2ccb6-1b8d-494a-9fd0-7a3166f4fddd/lib/python3.11/site-packages/azure/eventhub/_client_base.py:337\u001B[0m, in \u001B[0;36mClientBase._from_connection_string\u001B[0;34m(conn_str, **kwargs)\u001B[0m\n\u001B[1;32m    335\u001B[0m \u001B[38;5;129m@staticmethod\u001B[39m\n\u001B[1;32m    336\u001B[0m \u001B[38;5;28;01mdef\u001B[39;00m \u001B[38;5;21m_from_connection_string\u001B[39m(conn_str: \u001B[38;5;28mstr\u001B[39m, \u001B[38;5;241m*\u001B[39m\u001B[38;5;241m*\u001B[39mkwargs: Any) \u001B[38;5;241m-\u001B[39m\u001B[38;5;241m>\u001B[39m Dict[\u001B[38;5;28mstr\u001B[39m, Any]:\n\u001B[0;32m--> 337\u001B[0m     host, policy, key, entity, token, token_expiry, emulator \u001B[38;5;241m=\u001B[39m _parse_conn_str(\n\u001B[1;32m    338\u001B[0m         conn_str, \u001B[38;5;241m*\u001B[39m\u001B[38;5;241m*\u001B[39mkwargs\n\u001B[1;32m    339\u001B[0m     )\n\u001B[1;32m    341\u001B[0m     kwargs[\u001B[38;5;124m\"\u001B[39m\u001B[38;5;124mfully_qualified_namespace\u001B[39m\u001B[38;5;124m\"\u001B[39m] \u001B[38;5;241m=\u001B[39m host\n\u001B[1;32m    342\u001B[0m     kwargs[\u001B[38;5;124m\"\u001B[39m\u001B[38;5;124meventhub_name\u001B[39m\u001B[38;5;124m\"\u001B[39m] \u001B[38;5;241m=\u001B[39m entity\n",
        "File \u001B[0;32m/local_disk0/.ephemeral_nfs/envs/pythonEnv-c0e2ccb6-1b8d-494a-9fd0-7a3166f4fddd/lib/python3.11/site-packages/azure/eventhub/_client_base.py:85\u001B[0m, in \u001B[0;36m_parse_conn_str\u001B[0;34m(conn_str, eventhub_name, check_case, **kwargs)\u001B[0m\n\u001B[1;32m     83\u001B[0m shared_access_signature_expiry \u001B[38;5;241m=\u001B[39m \u001B[38;5;28;01mNone\u001B[39;00m\n\u001B[1;32m     84\u001B[0m use_emulator: Optional[\u001B[38;5;28mstr\u001B[39m] \u001B[38;5;241m=\u001B[39m \u001B[38;5;28;01mNone\u001B[39;00m\n\u001B[0;32m---> 85\u001B[0m conn_settings \u001B[38;5;241m=\u001B[39m core_parse_connection_string(\n\u001B[1;32m     86\u001B[0m     conn_str, case_sensitive_keys\u001B[38;5;241m=\u001B[39mcheck_case\n\u001B[1;32m     87\u001B[0m )\n\u001B[1;32m     88\u001B[0m \u001B[38;5;28;01mif\u001B[39;00m check_case:\n\u001B[1;32m     89\u001B[0m     shared_access_key \u001B[38;5;241m=\u001B[39m conn_settings\u001B[38;5;241m.\u001B[39mget(\u001B[38;5;124m\"\u001B[39m\u001B[38;5;124mSharedAccessKey\u001B[39m\u001B[38;5;124m\"\u001B[39m)\n",
        "File \u001B[0;32m/databricks/python/lib/python3.11/site-packages/azure/core/utils/_connection_string_parser.py:28\u001B[0m, in \u001B[0;36mparse_connection_string\u001B[0;34m(conn_str, case_sensitive_keys)\u001B[0m\n\u001B[1;32m     26\u001B[0m cs_args \u001B[38;5;241m=\u001B[39m [s\u001B[38;5;241m.\u001B[39msplit(\u001B[38;5;124m\"\u001B[39m\u001B[38;5;124m=\u001B[39m\u001B[38;5;124m\"\u001B[39m, \u001B[38;5;241m1\u001B[39m) \u001B[38;5;28;01mfor\u001B[39;00m s \u001B[38;5;129;01min\u001B[39;00m conn_str\u001B[38;5;241m.\u001B[39mstrip()\u001B[38;5;241m.\u001B[39mrstrip(\u001B[38;5;124m\"\u001B[39m\u001B[38;5;124m;\u001B[39m\u001B[38;5;124m\"\u001B[39m)\u001B[38;5;241m.\u001B[39msplit(\u001B[38;5;124m\"\u001B[39m\u001B[38;5;124m;\u001B[39m\u001B[38;5;124m\"\u001B[39m)]\n\u001B[1;32m     27\u001B[0m \u001B[38;5;28;01mif\u001B[39;00m \u001B[38;5;28many\u001B[39m(\u001B[38;5;28mlen\u001B[39m(tup) \u001B[38;5;241m!=\u001B[39m \u001B[38;5;241m2\u001B[39m \u001B[38;5;129;01mor\u001B[39;00m \u001B[38;5;129;01mnot\u001B[39;00m \u001B[38;5;28mall\u001B[39m(tup) \u001B[38;5;28;01mfor\u001B[39;00m tup \u001B[38;5;129;01min\u001B[39;00m cs_args):\n\u001B[0;32m---> 28\u001B[0m     \u001B[38;5;28;01mraise\u001B[39;00m \u001B[38;5;167;01mValueError\u001B[39;00m(\u001B[38;5;124m\"\u001B[39m\u001B[38;5;124mConnection string is either blank or malformed.\u001B[39m\u001B[38;5;124m\"\u001B[39m)\n\u001B[1;32m     29\u001B[0m args_dict \u001B[38;5;241m=\u001B[39m \u001B[38;5;28mdict\u001B[39m(cs_args)\n\u001B[1;32m     31\u001B[0m \u001B[38;5;28;01mif\u001B[39;00m \u001B[38;5;28mlen\u001B[39m(cs_args) \u001B[38;5;241m!=\u001B[39m \u001B[38;5;28mlen\u001B[39m(args_dict):\n",
        "\u001B[0;31mValueError\u001B[0m: Connection string is either blank or malformed."
       ],
       "type": "baseError"
      }
     },
     "output_type": "display_data"
    }
   ],
   "source": [
    "import time\n",
    "import random\n",
    "from azure.eventhub import EventHubProducerClient, EventData\n",
    "\n",
    "def generate_data():\n",
    "    return random.randint(50, 100)\n",
    "\n",
    "def send_data_to_event_hub():\n",
    "    connection_str = '<EVENT_HUB_CONNECTION_STRING>'\n",
    "    eventhub_name = '<YOUR_EVENT_HUB_NAME>'\n",
    "\n",
    "    producer = EventHubProducerClient.from_connection_string(conn_str=connection_str, eventhub_name=eventhub_name)\n",
    "\n",
    "    while True:\n",
    "        number = generate_data()\n",
    "        event_data_batch = producer.create_batch()\n",
    "        event_data_batch.add(EventData(str(number)))\n",
    "        producer.send_batch(event_data_batch)\n",
    "        print(f\"Sent: {number}\")\n",
    "        time.sleep(2)\n",
    "\n",
    "    producer.close()\n",
    "\n",
    "send_data_to_event_hub()"
   ]
  },
  {
   "cell_type": "markdown",
   "metadata": {
    "application/vnd.databricks.v1+cell": {
     "cellMetadata": {},
     "inputWidgets": {},
     "nuid": "2b768177-1254-468b-9b17-59f12445af33",
     "showTitle": false,
     "title": ""
    }
   },
   "source": [
    "## Task 02\n",
    "#### Create an Event Hub\n",
    "  1. Go to Azure Portal.\n",
    "  2. Create a new Event Hub Namespace.\n",
    "  3. Inside the namespace, create a new Event Hub.\n",
    "  4. Note down the connection string and Event Hub name."
   ]
  },
  {
   "cell_type": "markdown",
   "metadata": {
    "application/vnd.databricks.v1+cell": {
     "cellMetadata": {},
     "inputWidgets": {},
     "nuid": "edf4fb2d-790e-4137-bfc2-17bbf950b15a",
     "showTitle": false,
     "title": ""
    }
   },
   "source": [
    "## Task 03\n",
    "#### Capture the Incoming Stream Using Structured Streaming in Databricks"
   ]
  },
  {
   "cell_type": "code",
   "execution_count": 0,
   "metadata": {
    "application/vnd.databricks.v1+cell": {
     "cellMetadata": {},
     "inputWidgets": {},
     "nuid": "ad6a20c0-10e8-4be3-a204-8cc6bbba478a",
     "showTitle": false,
     "title": ""
    }
   },
   "outputs": [],
   "source": [
    "from pyspark.sql.functions import expr, col\n",
    "from pyspark.sql.types import IntegerType, StringType"
   ]
  },
  {
   "cell_type": "markdown",
   "metadata": {
    "application/vnd.databricks.v1+cell": {
     "cellMetadata": {},
     "inputWidgets": {},
     "nuid": "5e55c116-8363-4638-b75d-fd500dbf5aaa",
     "showTitle": false,
     "title": ""
    }
   },
   "source": [
    "Define Event Hub connection details"
   ]
  },
  {
   "cell_type": "code",
   "execution_count": 0,
   "metadata": {
    "application/vnd.databricks.v1+cell": {
     "cellMetadata": {},
     "inputWidgets": {},
     "nuid": "3ca27a0f-1d7f-4867-b2d1-796eeb429ea9",
     "showTitle": false,
     "title": ""
    }
   },
   "outputs": [],
   "source": [
    "event_hub_conf = {\n",
    "    'eventhubs.connectionString': 'EVENT_HUB_CONNECTION_STRING'\n",
    "}"
   ]
  },
  {
   "cell_type": "markdown",
   "metadata": {
    "application/vnd.databricks.v1+cell": {
     "cellMetadata": {},
     "inputWidgets": {},
     "nuid": "5d15969d-fd49-4a82-8585-a64c9f249a22",
     "showTitle": false,
     "title": ""
    }
   },
   "source": [
    "Read stream from Event Hub"
   ]
  },
  {
   "cell_type": "code",
   "execution_count": 0,
   "metadata": {
    "application/vnd.databricks.v1+cell": {
     "cellMetadata": {},
     "inputWidgets": {},
     "nuid": "ae672060-cff9-4826-aa5a-c294906e286c",
     "showTitle": false,
     "title": ""
    }
   },
   "outputs": [],
   "source": [
    "event_stream = (spark.readStream\n",
    "                .format('eventhubs')\n",
    "                .options(**event_hub_conf)\n",
    "                .load())"
   ]
  },
  {
   "cell_type": "markdown",
   "metadata": {
    "application/vnd.databricks.v1+cell": {
     "cellMetadata": {},
     "inputWidgets": {},
     "nuid": "cafa2f98-6248-4311-86ef-1a099eaf3c3c",
     "showTitle": false,
     "title": ""
    }
   },
   "source": [
    "Convert binary body to integer"
   ]
  },
  {
   "cell_type": "code",
   "execution_count": 0,
   "metadata": {
    "application/vnd.databricks.v1+cell": {
     "cellMetadata": {},
     "inputWidgets": {},
     "nuid": "8b74789c-682d-4783-a8cd-7ab71837412f",
     "showTitle": false,
     "title": ""
    }
   },
   "outputs": [],
   "source": [
    "numbers_stream = event_stream.selectExpr(\"CAST(body AS STRING) AS number\")"
   ]
  },
  {
   "cell_type": "markdown",
   "metadata": {
    "application/vnd.databricks.v1+cell": {
     "cellMetadata": {},
     "inputWidgets": {},
     "nuid": "7572bae7-9ba9-430b-a826-73d2a4745179",
     "showTitle": false,
     "title": ""
    }
   },
   "source": [
    "Convert the string to integer"
   ]
  },
  {
   "cell_type": "code",
   "execution_count": 0,
   "metadata": {
    "application/vnd.databricks.v1+cell": {
     "cellMetadata": {},
     "inputWidgets": {},
     "nuid": "c99266aa-fa5e-45dd-919e-bddbae9bb8f4",
     "showTitle": false,
     "title": ""
    }
   },
   "outputs": [],
   "source": [
    "numbers_stream = numbers_stream.withColumn(\"number\", col(\"number\").cast(IntegerType()))"
   ]
  },
  {
   "cell_type": "markdown",
   "metadata": {
    "application/vnd.databricks.v1+cell": {
     "cellMetadata": {},
     "inputWidgets": {},
     "nuid": "57e5c3cb-655b-4e5c-ad00-69698450d519",
     "showTitle": false,
     "title": ""
    }
   },
   "source": [
    "## Task 04\n",
    "#### Add 'Risk' column based on the value"
   ]
  },
  {
   "cell_type": "code",
   "execution_count": 0,
   "metadata": {
    "application/vnd.databricks.v1+cell": {
     "cellMetadata": {},
     "inputWidgets": {},
     "nuid": "ae7aa2a1-637f-43aa-8925-aefad2f0fb65",
     "showTitle": false,
     "title": ""
    }
   },
   "outputs": [],
   "source": [
    "numbers_with_risk = numbers_stream.withColumn('Risk', expr(\"CASE WHEN number > 80 THEN 'High' ELSE 'Low' END\"))"
   ]
  },
  {
   "cell_type": "markdown",
   "metadata": {
    "application/vnd.databricks.v1+cell": {
     "cellMetadata": {},
     "inputWidgets": {},
     "nuid": "c68ae503-69ca-40eb-a083-8b30a54c6934",
     "showTitle": false,
     "title": ""
    }
   },
   "source": [
    "Show the streaming data in the console"
   ]
  },
  {
   "cell_type": "code",
   "execution_count": 0,
   "metadata": {
    "application/vnd.databricks.v1+cell": {
     "cellMetadata": {},
     "inputWidgets": {},
     "nuid": "505f412c-affa-4907-92b2-421d34ec0146",
     "showTitle": false,
     "title": ""
    }
   },
   "outputs": [],
   "source": [
    "query = (numbers_with_risk.writeStream\n",
    "         .outputMode(\"append\")\n",
    "         .format(\"console\")\n",
    "         .start())\n",
    "\n",
    "query.awaitTermination()"
   ]
  },
  {
   "cell_type": "markdown",
   "metadata": {
    "application/vnd.databricks.v1+cell": {
     "cellMetadata": {},
     "inputWidgets": {},
     "nuid": "bc3e55d1-b6c0-4bbe-bf7a-3ee04046aeb1",
     "showTitle": false,
     "title": ""
    }
   },
   "source": [
    "## Task 05\n",
    "#### Capture the Output Stream in a Separate Event Hub"
   ]
  },
  {
   "cell_type": "code",
   "execution_count": 0,
   "metadata": {
    "application/vnd.databricks.v1+cell": {
     "cellMetadata": {},
     "inputWidgets": {},
     "nuid": "ed9b5c27-c3aa-4e9d-9aaa-528211180e2c",
     "showTitle": false,
     "title": ""
    }
   },
   "outputs": [],
   "source": [
    "from azure.eventhub import EventHubProducerClient, EventData\n",
    "\n",
    "output_event_hub_conf = {\n",
    "    'eventhubs.connectionString': 'OUTPUT_EVENT_HUB_CONNECTION_STRING'\n",
    "}"
   ]
  },
  {
   "cell_type": "markdown",
   "metadata": {
    "application/vnd.databricks.v1+cell": {
     "cellMetadata": {},
     "inputWidgets": {},
     "nuid": "54f97480-abc5-43c6-aec9-60d19c1b0b15",
     "showTitle": false,
     "title": ""
    }
   },
   "source": [
    "Function to send data to output Event Hub"
   ]
  },
  {
   "cell_type": "code",
   "execution_count": 0,
   "metadata": {
    "application/vnd.databricks.v1+cell": {
     "cellMetadata": {},
     "inputWidgets": {},
     "nuid": "c1457c65-321f-44ac-a1af-e70306a85524",
     "showTitle": false,
     "title": ""
    }
   },
   "outputs": [],
   "source": [
    "def send_to_output_event_hub(row):\n",
    "    producer = EventHubProducerClient.from_connection_string(conn_str=output_event_hub_conf['eventhubs.connectionString'])\n",
    "    event_data_batch = producer.create_batch()\n",
    "    event_data_batch.add(EventData(str(row)))\n",
    "    producer.send_batch(event_data_batch)\n",
    "    producer.close()"
   ]
  },
  {
   "cell_type": "markdown",
   "metadata": {
    "application/vnd.databricks.v1+cell": {
     "cellMetadata": {},
     "inputWidgets": {},
     "nuid": "ad926835-d364-485b-87a3-23415ca20cac",
     "showTitle": false,
     "title": ""
    }
   },
   "source": [
    "Send the processed stream to another Event Hub"
   ]
  },
  {
   "cell_type": "code",
   "execution_count": 0,
   "metadata": {
    "application/vnd.databricks.v1+cell": {
     "cellMetadata": {},
     "inputWidgets": {},
     "nuid": "8fbcbec5-e6e0-4da6-815d-fa1e2c8c848a",
     "showTitle": false,
     "title": ""
    }
   },
   "outputs": [],
   "source": [
    "output_query = (numbers_with_risk\n",
    "                .writeStream\n",
    "                .foreach(send_to_output_event_hub)\n",
    "                .start())\n",
    "\n",
    "output_query.awaitTermination()"
   ]
  },
  {
   "cell_type": "markdown",
   "metadata": {
    "application/vnd.databricks.v1+cell": {
     "cellMetadata": {},
     "inputWidgets": {},
     "nuid": "f977f14b-0e47-4280-b006-70c8bc8f0145",
     "showTitle": false,
     "title": ""
    }
   },
   "source": [
    "## Task 06\n",
    "#### Connect the Output Stream to Power BI Using Stream Analytics\n",
    "  1. Create a Stream Analytics Job in Azure.\n",
    "  2. Set the input as your output Event Hub.\n",
    "  3. Set the output as Power BI:\n",
    "    - Authorize Power BI.\n",
    "    - Create a new dataset and table."
   ]
  },
  {
   "cell_type": "markdown",
   "metadata": {
    "application/vnd.databricks.v1+cell": {
     "cellMetadata": {},
     "inputWidgets": {},
     "nuid": "635efe88-65ad-4c08-b7a4-2746af401388",
     "showTitle": false,
     "title": ""
    }
   },
   "source": [
    "## Task 07\n",
    "#### Build a Real-time Dashboard in Power BI\n",
    "  1. Open Power BI and connect to the dataset created by your Stream Analytics job.\n",
    "  2. Create a new report and add a bar chart or a table to visualize the count of High and Low risk values.\n",
    "  3. Publish the report to your Power BI workspace.\n",
    "  4. Pin the visuals to a dashboard to create a real-time dashboard.\n",
    "  5. Write a query to count the number of High and Low risk values:"
   ]
  },
  {
   "cell_type": "code",
   "execution_count": 0,
   "metadata": {
    "application/vnd.databricks.v1+cell": {
     "cellMetadata": {},
     "inputWidgets": {},
     "nuid": "44cabad8-af89-421b-bbd4-0fa5d7589494",
     "showTitle": false,
     "title": ""
    }
   },
   "outputs": [],
   "source": [
    "%sql\n",
    "SELECT\n",
    "    Risk,\n",
    "    COUNT(*) AS Count\n",
    "INTO\n",
    "    PowerBIOutput\n",
    "FROM\n",
    "    InputStream\n",
    "GROUP BY\n",
    "    TumblingWindow(seconds, 2),\n",
    "    Risk"
   ]
  }
 ],
 "metadata": {
  "application/vnd.databricks.v1+notebook": {
   "dashboards": [],
   "environmentMetadata": null,
   "language": "python",
   "notebookMetadata": {
    "pythonIndentUnit": 4
   },
   "notebookName": "Week-10",
   "widgets": {}
  }
 },
 "nbformat": 4,
 "nbformat_minor": 0
}
