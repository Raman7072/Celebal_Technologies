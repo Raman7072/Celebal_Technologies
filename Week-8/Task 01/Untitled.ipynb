{
 "cells": [
  {
   "cell_type": "code",
   "execution_count": 29,
   "id": "b5434512-6dde-4b5b-ae41-56b6cb5d0b64",
   "metadata": {},
   "outputs": [],
   "source": [
    "from pyspark.sql import SparkSession\n",
    "from pyspark.sql.functions import col, sum, avg, count, window, desc"
   ]
  },
  {
   "cell_type": "markdown",
   "id": "8a198904-93bb-4b7a-b163-3a4c2fcc1411",
   "metadata": {},
   "source": [
    "##### Initialize Spark session"
   ]
  },
  {
   "cell_type": "code",
   "execution_count": 30,
   "id": "0061c9c1-6a52-4fb9-80aa-f8f20b134e82",
   "metadata": {},
   "outputs": [],
   "source": [
    "spark = SparkSession.builder.appName(\"NYC Taxi Data Analysis\").getOrCreate()"
   ]
  },
  {
   "cell_type": "markdown",
   "id": "12a26282-e0ff-4f6a-8675-a8f8d733de9c",
   "metadata": {},
   "source": [
    "### Load the data into a DataFrame"
   ]
  },
  {
   "cell_type": "code",
   "execution_count": 31,
   "id": "bc1a3858-5d17-4b5e-af39-acbd92229edb",
   "metadata": {},
   "outputs": [],
   "source": [
    "data_path = \"yellow_tripdata_2020-01.csv\"\n",
    "df = spark.read.csv(data_path, header=True, inferSchema=True)"
   ]
  },
  {
   "cell_type": "markdown",
   "id": "3e0efe32-e1d4-42ec-91fb-10fe33033f6f",
   "metadata": {},
   "source": [
    "### Show the schema of the dataframe"
   ]
  },
  {
   "cell_type": "code",
   "execution_count": 32,
   "id": "0e29af2c-248f-40f9-8f8f-dfc607a3928d",
   "metadata": {},
   "outputs": [
    {
     "name": "stdout",
     "output_type": "stream",
     "text": [
      "root\n",
      " |-- VendorID: integer (nullable = true)\n",
      " |-- tpep_pickup_datetime: timestamp (nullable = true)\n",
      " |-- tpep_dropoff_datetime: timestamp (nullable = true)\n",
      " |-- passenger_count: integer (nullable = true)\n",
      " |-- trip_distance: double (nullable = true)\n",
      " |-- RatecodeID: integer (nullable = true)\n",
      " |-- store_and_fwd_flag: string (nullable = true)\n",
      " |-- PULocationID: integer (nullable = true)\n",
      " |-- DOLocationID: integer (nullable = true)\n",
      " |-- payment_type: integer (nullable = true)\n",
      " |-- fare_amount: double (nullable = true)\n",
      " |-- extra: double (nullable = true)\n",
      " |-- mta_tax: double (nullable = true)\n",
      " |-- tip_amount: double (nullable = true)\n",
      " |-- tolls_amount: double (nullable = true)\n",
      " |-- improvement_surcharge: double (nullable = true)\n",
      " |-- total_amount: double (nullable = true)\n",
      " |-- congestion_surcharge: double (nullable = true)\n",
      "\n"
     ]
    }
   ],
   "source": [
    "df.printSchema()"
   ]
  },
  {
   "cell_type": "markdown",
   "id": "5a9c1153-66c7-4f34-a7f7-2dd05064e958",
   "metadata": {},
   "source": [
    "# Query 1:\n",
    "    Add a column named \"Revenue\" into DataFrame"
   ]
  },
  {
   "cell_type": "code",
   "execution_count": 33,
   "id": "fd2bbf8c-0874-48b2-8b5f-c4bef52cdc67",
   "metadata": {},
   "outputs": [
    {
     "name": "stdout",
     "output_type": "stream",
     "text": [
      "+--------+--------------------+---------------------+---------------+-------------+----------+------------------+------------+------------+------------+-----------+-----+-------+----------+------------+---------------------+------------+--------------------+------------------+\n",
      "|VendorID|tpep_pickup_datetime|tpep_dropoff_datetime|passenger_count|trip_distance|RatecodeID|store_and_fwd_flag|PULocationID|DOLocationID|payment_type|fare_amount|extra|mta_tax|tip_amount|tolls_amount|improvement_surcharge|total_amount|congestion_surcharge|           Revenue|\n",
      "+--------+--------------------+---------------------+---------------+-------------+----------+------------------+------------+------------+------------+-----------+-----+-------+----------+------------+---------------------+------------+--------------------+------------------+\n",
      "|       1| 2020-01-01 00:28:15|  2020-01-01 00:33:03|              1|          1.2|         1|                 N|         238|         239|           1|        6.0|  3.0|    0.5|      1.47|         0.0|                  0.3|       11.27|                 2.5|             22.54|\n",
      "|       1| 2020-01-01 00:35:39|  2020-01-01 00:43:04|              1|          1.2|         1|                 N|         239|         238|           1|        7.0|  3.0|    0.5|       1.5|         0.0|                  0.3|        12.3|                 2.5|              24.6|\n",
      "|       1| 2020-01-01 00:47:41|  2020-01-01 00:53:52|              1|          0.6|         1|                 N|         238|         238|           1|        6.0|  3.0|    0.5|       1.0|         0.0|                  0.3|        10.8|                 2.5|              21.6|\n",
      "|       1| 2020-01-01 00:55:23|  2020-01-01 01:00:14|              1|          0.8|         1|                 N|         238|         151|           1|        5.5|  0.5|    0.5|      1.36|         0.0|                  0.3|        8.16|                 0.0|             16.32|\n",
      "|       2| 2020-01-01 00:01:58|  2020-01-01 00:04:16|              1|          0.0|         1|                 N|         193|         193|           2|        3.5|  0.5|    0.5|       0.0|         0.0|                  0.3|         4.8|                 0.0|               9.6|\n",
      "|       2| 2020-01-01 00:09:44|  2020-01-01 00:10:37|              1|         0.03|         1|                 N|           7|         193|           2|        2.5|  0.5|    0.5|       0.0|         0.0|                  0.3|         3.8|                 0.0|               7.6|\n",
      "|       2| 2020-01-01 00:39:25|  2020-01-01 00:39:29|              1|          0.0|         1|                 N|         193|         193|           1|        2.5|  0.5|    0.5|      0.01|         0.0|                  0.3|        3.81|                 0.0| 7.619999999999999|\n",
      "|       2| 2019-12-18 15:27:49|  2019-12-18 15:28:59|              1|          0.0|         5|                 N|         193|         193|           1|       0.01|  0.0|    0.0|       0.0|         0.0|                  0.3|        2.81|                 2.5|              3.12|\n",
      "|       2| 2019-12-18 15:30:35|  2019-12-18 15:31:35|              4|          0.0|         1|                 N|         193|         193|           1|        2.5|  0.5|    0.5|       0.0|         0.0|                  0.3|         6.3|                 2.5|              10.1|\n",
      "|       1| 2020-01-01 00:29:01|  2020-01-01 00:40:28|              2|          0.7|         1|                 N|         246|          48|           1|        8.0|  3.0|    0.5|      2.35|         0.0|                  0.3|       14.15|                 2.5|              28.3|\n",
      "|       1| 2020-01-01 00:55:11|  2020-01-01 01:12:03|              2|          2.4|         1|                 N|         246|          79|           1|       12.0|  3.0|    0.5|      1.75|         0.0|                  0.3|       17.55|                 2.5|              35.1|\n",
      "|       1| 2020-01-01 00:37:15|  2020-01-01 00:51:41|              1|          0.8|         1|                 N|         163|         161|           2|        9.5|  3.0|    0.5|       0.0|         0.0|                  0.3|        13.3|                 2.5|              26.6|\n",
      "|       1| 2020-01-01 00:56:27|  2020-01-01 01:21:44|              1|          3.3|         1|                 N|         161|         144|           1|       17.0|  3.0|    0.5|      4.15|         0.0|                  0.3|       24.95|                 2.5|49.900000000000006|\n",
      "|       2| 2020-01-01 00:21:54|  2020-01-01 00:27:31|              1|         1.07|         1|                 N|          43|         239|           1|        6.0|  0.5|    0.5|      1.96|         0.0|                  0.3|       11.76|                 2.5|             21.02|\n",
      "|       2| 2020-01-01 00:38:01|  2020-01-01 01:15:21|              1|         7.76|         1|                 N|         143|          25|           1|       28.5|  0.5|    0.5|      4.84|         0.0|                  0.3|       37.14|                 2.5|             71.78|\n",
      "|       1| 2020-01-01 00:15:35|  2020-01-01 00:27:06|              3|          1.6|         1|                 N|         211|         234|           2|        9.0|  3.0|    0.5|       0.0|         0.0|                  0.3|        12.8|                 2.5|              25.6|\n",
      "|       1| 2020-01-01 00:41:20|  2020-01-01 00:44:22|              1|          0.5|         1|                 Y|         234|          90|           1|        4.0|  3.0|    0.5|       1.0|         0.0|                  0.3|         8.8|                 2.5|              17.6|\n",
      "|       1| 2020-01-01 00:56:38|  2020-01-01 01:13:34|              1|          1.7|         1|                 N|         246|         142|           2|       11.5|  3.0|    0.5|       0.0|         0.0|                  0.3|        15.3|                 2.5|              30.6|\n",
      "|       2| 2020-01-01 00:08:21|  2020-01-01 00:25:29|              1|         8.45|         1|                 N|         138|         216|           2|       24.5|  0.5|    0.5|       0.0|         0.0|                  0.3|        25.8|                 0.0|              51.6|\n",
      "|       1| 2020-01-01 00:25:39|  2020-01-01 00:27:05|              1|          0.0|         1|                 N|         170|         162|           4|        3.0|  3.0|    0.5|       0.0|         0.0|                  0.3|         6.8|                 2.5|              13.6|\n",
      "+--------+--------------------+---------------------+---------------+-------------+----------+------------------+------------+------------+------------+-----------+-----+-------+----------+------------+---------------------+------------+--------------------+------------------+\n",
      "only showing top 20 rows\n",
      "\n"
     ]
    }
   ],
   "source": [
    "from pyspark.sql.functions import col\n",
    "\n",
    "df = df.withColumn(\"Revenue\", col(\"Fare_amount\") + col(\"Extra\") + col(\"MTA_tax\") + col(\"Improvement_surcharge\") + col(\"Tip_amount\") + col(\"Tolls_amount\") + col(\"Total_amount\"))\n",
    "df.show()"
   ]
  },
  {
   "cell_type": "markdown",
   "id": "6b2ae74b-a421-477e-8f28-eab7d58f184f",
   "metadata": {},
   "source": [
    "# Query 2:\n",
    "    Increasing count of total passengers in New York City by area"
   ]
  },
  {
   "cell_type": "code",
   "execution_count": 34,
   "id": "162c6626-ee34-4d34-95bc-bff9a008b492",
   "metadata": {},
   "outputs": [
    {
     "name": "stdout",
     "output_type": "stream",
     "text": [
      "+------------+----------------+\n",
      "|PULocationID|Total_passengers|\n",
      "+------------+----------------+\n",
      "|         237|          433243|\n",
      "|         161|          425986|\n",
      "|         236|          403347|\n",
      "|         230|          360096|\n",
      "|         162|          351011|\n",
      "|         186|          338952|\n",
      "|         132|          326402|\n",
      "|          48|          297148|\n",
      "|         142|          294502|\n",
      "|         170|          289593|\n",
      "|         234|          284965|\n",
      "|         163|          267047|\n",
      "|         239|          263583|\n",
      "|          79|          244515|\n",
      "|         141|          237341|\n",
      "|          68|          227635|\n",
      "|         164|          218138|\n",
      "|         107|          215684|\n",
      "|         238|          199367|\n",
      "|         138|          197352|\n",
      "+------------+----------------+\n",
      "only showing top 20 rows\n",
      "\n"
     ]
    }
   ],
   "source": [
    "df.groupBy(\"PULocationID\").sum(\"passenger_count\").withColumnRenamed(\"sum(passenger_count)\", \"Total_passengers\").orderBy(\"Total_passengers\", ascending=False).show()"
   ]
  },
  {
   "cell_type": "markdown",
   "id": "e262499a-2f9a-41fd-adf2-3d915bddf677",
   "metadata": {},
   "source": [
    "# Query 3:\n",
    "    Real-time Average fare/total earning amount earned by 2 vendors"
   ]
  },
  {
   "cell_type": "code",
   "execution_count": 35,
   "id": "6cd7cd2b-af9a-4edd-8649-434348c99bbd",
   "metadata": {},
   "outputs": [
    {
     "name": "stdout",
     "output_type": "stream",
     "text": [
      "+--------+------------------+\n",
      "|VendorID|      Average_fare|\n",
      "+--------+------------------+\n",
      "|    NULL|37.217091425863046|\n",
      "|       2|18.648347164036302|\n",
      "+--------+------------------+\n",
      "\n"
     ]
    }
   ],
   "source": [
    "df.groupBy(\"VendorID\").avg(\"Total_amount\").withColumnRenamed(\"avg(Total_amount)\", \"Average_fare\").orderBy(\"Average_fare\", ascending=False).limit(2).show()"
   ]
  },
  {
   "cell_type": "markdown",
   "id": "02bb3aee-fc0d-46f7-b14c-8a0128d8f315",
   "metadata": {},
   "source": [
    "# Query 4:\n",
    "    Moving Count of payments made by each payment mode"
   ]
  },
  {
   "cell_type": "code",
   "execution_count": 36,
   "id": "257b5a94-6c55-4e33-8f55-91c17584f257",
   "metadata": {},
   "outputs": [
    {
     "name": "stdout",
     "output_type": "stream",
     "text": [
      "+------------+-------------+\n",
      "|payment_type|Payment_count|\n",
      "+------------+-------------+\n",
      "|           1|      4694897|\n",
      "|           2|      1593834|\n",
      "|        NULL|        65441|\n",
      "|           3|        32770|\n",
      "|           4|        18065|\n",
      "|           5|            1|\n",
      "+------------+-------------+\n",
      "\n"
     ]
    }
   ],
   "source": [
    "df.groupBy(\"payment_type\").count().withColumnRenamed(\"count\", \"Payment_count\").orderBy(\"Payment_count\", ascending=False).show()"
   ]
  },
  {
   "cell_type": "markdown",
   "id": "d6f87979-255b-49af-883c-99424575a764",
   "metadata": {},
   "source": [
    "# Query 5:\n",
    "    Highest two gaining vendors on a particular date with the number of passengers and total distance by cab"
   ]
  },
  {
   "cell_type": "code",
   "execution_count": 38,
   "id": "e10cf479-1882-4aa2-9bdb-4cac972ad2a1",
   "metadata": {},
   "outputs": [],
   "source": [
    "from pyspark.sql.functions import to_date"
   ]
  },
  {
   "cell_type": "code",
   "execution_count": 39,
   "id": "d2cc4a69-d3a7-4032-b435-870801d129fc",
   "metadata": {},
   "outputs": [
    {
     "name": "stdout",
     "output_type": "stream",
     "text": [
      "+--------+------------------+----------------+------------------+\n",
      "|VendorID|     Total_revenue|Total_passengers|    Total_distance|\n",
      "+--------+------------------+----------------+------------------+\n",
      "|       2| 2700441.549999132|          233339| 410271.7600000014|\n",
      "|       1|1319816.5300006857|           82508|190960.49999999945|\n",
      "+--------+------------------+----------------+------------------+\n",
      "\n"
     ]
    }
   ],
   "source": [
    "date = \"2020-01-15\"  # Example date\n",
    "df_filtered = df.filter(to_date(col(\"tpep_pickup_datetime\")) == date)\n",
    "df_filtered.groupBy(\"VendorID\").agg(\n",
    "    {\"passenger_count\": \"sum\", \"trip_distance\": \"sum\", \"Total_amount\": \"sum\"}\n",
    ").withColumnRenamed(\"sum(passenger_count)\", \"Total_passengers\")\\\n",
    ".withColumnRenamed(\"sum(trip_distance)\", \"Total_distance\")\\\n",
    ".withColumnRenamed(\"sum(Total_amount)\", \"Total_revenue\")\\\n",
    ".orderBy(\"Total_revenue\", ascending=False).limit(2).show()"
   ]
  },
  {
   "cell_type": "markdown",
   "id": "70cfbd5d-843f-4458-9e80-c2e6b6346530",
   "metadata": {},
   "source": [
    "# Query 6:\n",
    "    Most number of passengers between a route of two locations"
   ]
  },
  {
   "cell_type": "code",
   "execution_count": 40,
   "id": "57921362-59ac-4d32-8b4a-064325a37295",
   "metadata": {},
   "outputs": [
    {
     "name": "stdout",
     "output_type": "stream",
     "text": [
      "+------------+------------+----------------+\n",
      "|PULocationID|DOLocationID|Total_passengers|\n",
      "+------------+------------+----------------+\n",
      "|         237|         236|           67885|\n",
      "|         236|         236|           57662|\n",
      "|         236|         237|           56488|\n",
      "|         237|         237|           49757|\n",
      "|         264|         264|           44789|\n",
      "|         239|         238|           30402|\n",
      "|         239|         142|           28755|\n",
      "|         161|         237|           27492|\n",
      "|         142|         239|           27260|\n",
      "|         186|         230|           25857|\n",
      "|         141|         236|           25850|\n",
      "|         238|         239|           25431|\n",
      "|         237|         162|           25160|\n",
      "|         230|         186|           24846|\n",
      "|         237|         161|           24779|\n",
      "|         186|         161|           23489|\n",
      "|         237|         141|           22829|\n",
      "|         263|         236|           22628|\n",
      "|         239|         239|           22052|\n",
      "|         161|         236|           21911|\n",
      "+------------+------------+----------------+\n",
      "only showing top 20 rows\n",
      "\n"
     ]
    }
   ],
   "source": [
    "df.groupBy(\"PULocationID\", \"DOLocationID\").sum(\"passenger_count\").withColumnRenamed(\"sum(passenger_count)\", \"Total_passengers\").orderBy(\"Total_passengers\", ascending=False).show()"
   ]
  },
  {
   "cell_type": "markdown",
   "id": "094a66b0-90f2-4dc2-9fcd-ac42d23bb863",
   "metadata": {},
   "source": [
    "# Query 7:\n",
    "    Get top pickup locations with most passengers in the last 5/10 seconds"
   ]
  },
  {
   "cell_type": "code",
   "execution_count": 41,
   "id": "463bc8e9-505f-4b81-a49b-52c47efbb4d8",
   "metadata": {},
   "outputs": [
    {
     "name": "stdout",
     "output_type": "stream",
     "text": [
      "+--------------------+------------+----------------+\n",
      "|              window|PULocationID|total_passengers|\n",
      "+--------------------+------------+----------------+\n",
      "|{2020-01-08 23:11...|         142|              12|\n",
      "+--------------------+------------+----------------+\n",
      "\n"
     ]
    }
   ],
   "source": [
    "top_pickup_locations = df.groupBy(window(col(\"tpep_pickup_datetime\"), \"10 seconds\"), \"PULocationID\").agg(count(\"passenger_count\").alias(\"total_passengers\")).orderBy(desc(\"total_passengers\")).limit(1)\n",
    "top_pickup_locations.show()"
   ]
  },
  {
   "cell_type": "code",
   "execution_count": null,
   "id": "44d6f558-4829-40ff-a8e6-105f534f001b",
   "metadata": {},
   "outputs": [],
   "source": []
  }
 ],
 "metadata": {
  "kernelspec": {
   "display_name": "Python 3 (ipykernel)",
   "language": "python",
   "name": "python3"
  },
  "language_info": {
   "codemirror_mode": {
    "name": "ipython",
    "version": 3
   },
   "file_extension": ".py",
   "mimetype": "text/x-python",
   "name": "python",
   "nbconvert_exporter": "python",
   "pygments_lexer": "ipython3",
   "version": "3.11.0"
  }
 },
 "nbformat": 4,
 "nbformat_minor": 5
}
